{
 "cells": [
  {
   "cell_type": "markdown",
   "metadata": {},
   "source": [
    "# Anscombe's Quartet - An analysis of Anscombes Quartet Dataset"
   ]
  },
  {
   "cell_type": "markdown",
   "metadata": {},
   "source": [
    "In this assignment I will be looking at Anscombes Quartet Dataset. I hope to:\n",
    "\n",
    "1) Explain the background of the dataset, who created it, when it was created and speculate how it might have been created.\n",
    "\n",
    "2) Using python and it's various libraries, plot interesting aspects of the dataset.\n",
    "\n",
    "3) Calculate the descriptive statistics of the variables in the dataset.\n",
    "\n",
    "4) Explain why the dataset is interesting based on my findings.\n"
   ]
  },
  {
   "cell_type": "markdown",
   "metadata": {},
   "source": [
    "## What is Anscombe's Quartet?"
   ]
  },
  {
   "cell_type": "markdown",
   "metadata": {},
   "source": [
    "Anacombes's Quartet comprises four datasets that have nearly identical simple descriptive statistics, yet appear very different when graphed. Each dataset consists of eleven (x,y) points. They were constructed in 1973 by statistician Francis Anscombe to demonstrate both the importance of graphing data before analyzing it and the effect of outliers on statistical properties."
   ]
  },
  {
   "cell_type": "markdown",
   "metadata": {},
   "source": [
    "## The Man Behind the Data"
   ]
  },
  {
   "cell_type": "markdown",
   "metadata": {},
   "source": [
    "Francis John Anscombe, was a mathematician born in England in 1918. Educated at Cambridge University on a scolarship, he received a degree in mathematics in 1939 and a master's degree in 1943. He helped to computerize statistical analyses while seeking to avoid flawed interpretations of such data. In addition to publishing 50 research articles, he wrote a classic text \"Computing in Statistical Science Through APL\". He was emphatic in cautioning against misdiagnosing and misapplying computer models without obtaining the necessary proof. He detailed the need for great care in a paper in 1973 by demonstrating how one equation could neatly fit four different sets of data (Anscombe's Quartet Dataset). "
   ]
  },
  {
   "cell_type": "code",
   "execution_count": null,
   "metadata": {},
   "outputs": [],
   "source": []
  }
 ],
 "metadata": {
  "kernelspec": {
   "display_name": "Python 3",
   "language": "python",
   "name": "python3"
  },
  "language_info": {
   "codemirror_mode": {
    "name": "ipython",
    "version": 3
   },
   "file_extension": ".py",
   "mimetype": "text/x-python",
   "name": "python",
   "nbconvert_exporter": "python",
   "pygments_lexer": "ipython3",
   "version": "3.6.5"
  }
 },
 "nbformat": 4,
 "nbformat_minor": 2
}
